{
 "cells": [
  {
   "cell_type": "markdown",
   "metadata": {},
   "source": [
    "# 3. Dataset Shift Detection\n",
    "\n",
    "<div class=\"alert alert-block alert-info\">\n",
    "    <b>About:</b>\n",
    "    This notebook refers to the studies presented in <b>Chapter 5.4</b> of the Ph.D. thesis [3].\n",
    "    We can not guarantee completeness or correctness of the code.\n",
    "    If you find bugs or if you have suggestions on how to improve the code, we encourage you to post your ideas as <a href=\"https://github.com/felixriese/alpaca-processing/issues\">GitHub issue</a>.\n",
    "</div>"
   ]
  },
  {
   "cell_type": "code",
   "execution_count": null,
   "metadata": {},
   "outputs": [],
   "source": [
    "%load_ext autoreload\n",
    "%autoreload 2"
   ]
  },
  {
   "cell_type": "code",
   "execution_count": null,
   "metadata": {},
   "outputs": [],
   "source": [
    "import sys\n",
    "import numpy as np\n",
    "import pandas as pd\n",
    "import seaborn as sns\n",
    "import matplotlib.pyplot as plt\n",
    "import matplotlib\n",
    "import pickle\n",
    "from sklearn.ensemble import RandomForestClassifier, ExtraTreesClassifier, ExtraTreesRegressor\n",
    "from sklearn.model_selection import cross_validate, train_test_split\n",
    "import sklearn.metrics as me\n",
    "from scipy.signal import savgol_filter\n",
    "import susi\n",
    "\n",
    "sys.path.append(\"../aprocessing/\")\n",
    "\n",
    "import utils"
   ]
  },
  {
   "cell_type": "markdown",
   "metadata": {},
   "source": [
    "## Load data"
   ]
  },
  {
   "cell_type": "code",
   "execution_count": null,
   "metadata": {},
   "outputs": [],
   "source": [
    "# CHANGE maximum soilmoisture value\n",
    "max_sm = 40\n",
    "\n",
    "# CHANGE areas from [\"1\", \"2_1\", \"2_2\", \"3\", \"4\", \"5\"]\n",
    "areas = [\"1\", \"2_1\", \"2_2\", \"3\", \"4\",  \"5\"]\n",
    "areas_stacked = [[\"1\"], [\"2_1\", \"2_2\"], [\"3\"], [\"4\"], [\"5\"]]"
   ]
  },
  {
   "cell_type": "code",
   "execution_count": null,
   "metadata": {},
   "outputs": [],
   "source": [
    "# load data\n",
    "df = pd.read_csv(\"../data/processed/peru_data.csv\", index_col=0)\n",
    "\n",
    "# remove areas which are not used\n",
    "df = df[df[\"area\"].isin(areas)]\n",
    "\n",
    "# remove too large soil moisture values\n",
    "df = df[df[\"soilmoisture\"]<=max_sm]\n",
    "\n",
    "# define hyperspectral bands\n",
    "hypbands = utils.getHyperspectralBands(True)\n",
    "print(hypbands.shape)\n",
    "\n",
    "# create arrays\n",
    "X = df[hypbands.astype(\"str\")].values\n",
    "y = df[\"soilmoisture\"].values\n",
    "\n",
    "print(df.shape, X.shape, y.shape)"
   ]
  },
  {
   "cell_type": "code",
   "execution_count": null,
   "metadata": {},
   "outputs": [],
   "source": [
    "def getClosestBandIndex(wavelength):\n",
    "    hypbands = utils.getHyperspectralBands(True)\n",
    "    closest_index = np.abs(hypbands - wavelength).argmin()\n",
    "    return closest_index"
   ]
  },
  {
   "cell_type": "code",
   "execution_count": null,
   "metadata": {},
   "outputs": [],
   "source": [
    "print(\"Datapoints per area:\")\n",
    "for area in areas:\n",
    "    print(\"Area {0:4}:\\t{1}\".format(area, df[df[\"area\"]==area].shape[0]))"
   ]
  },
  {
   "cell_type": "code",
   "execution_count": null,
   "metadata": {},
   "outputs": [],
   "source": [
    "fig, ax_list = plt.subplots(2, 3, figsize=(15, 8))\n",
    "bins = np.arange(0, max_sm, 5)\n",
    "\n",
    "for i, area in enumerate(areas):\n",
    "    ax = ax_list[i//3, i%3]\n",
    "    ax.set_title(\"Area \"+str(area))\n",
    "    ax.set_xlim(0, max_sm)\n",
    "    ax.hist(df[df[\"area\"]==area].soilmoisture.values, bins)\n",
    "plt.tight_layout()"
   ]
  },
  {
   "cell_type": "markdown",
   "metadata": {},
   "source": [
    "### SOM"
   ]
  },
  {
   "cell_type": "code",
   "execution_count": null,
   "metadata": {},
   "outputs": [],
   "source": [
    "n_rows = 40\n",
    "n_columns = 40"
   ]
  },
  {
   "cell_type": "code",
   "execution_count": null,
   "metadata": {},
   "outputs": [],
   "source": [
    "cmap = plt.cm.viridis\n",
    "cmaplist = [cmap(i) for i in range(cmap.N)]\n",
    "cmap = matplotlib.colors.LinearSegmentedColormap.from_list('mcm', cmaplist, cmap.N)"
   ]
  },
  {
   "cell_type": "raw",
   "metadata": {},
   "source": [
    "model = susi.SOMClustering(n_rows=n_rows, n_columns=n_columns,\n",
    "                           n_iter_unsupervised=30000,\n",
    "                           random_state=4,\n",
    "                           verbose=1)\n",
    "model.fit(X)"
   ]
  },
  {
   "cell_type": "code",
   "execution_count": null,
   "metadata": {},
   "outputs": [],
   "source": [
    "# pickle.dump(model, open(\"../data/models/som_clustering.p\", \"wb\"))\n",
    "model = pickle.load(open(\"../data/models/som_clustering.p\", \"rb\"))"
   ]
  },
  {
   "cell_type": "code",
   "execution_count": null,
   "metadata": {
    "scrolled": false
   },
   "outputs": [],
   "source": [
    "fontsize = 15\n",
    "\n",
    "steps = 3\n",
    "bins = [np.arange(0, n_columns, steps), np.arange(0, n_rows, steps)]\n",
    "fig, ax_list = plt.subplots(2, 3, figsize=(12, 8), sharey=True, sharex=True)\n",
    "for i, area in enumerate(areas_stacked):\n",
    "    X_area = df[df[\"area\"].isin(area)][hypbands.astype(\"str\")].values\n",
    "    clusters = model.get_clusters(X_area)\n",
    "\n",
    "    ax = ax_list[i//3, i%3]\n",
    "    img = ax.hist2d([x[1] for x in clusters], [x[0] for x in clusters], bins=bins, cmin=1,\n",
    "              cmap=cmap, vmin=1, vmax=5)\n",
    "    ax.set_title(\"Area A\"+str(area[0][0]), fontsize=fontsize)\n",
    "    ax.set_xlim(0, n_columns-1)\n",
    "    ax.set_ylim(n_rows, 0)\n",
    "    \n",
    "    if i % 3 == 0:\n",
    "        ax.set_ylabel(\"SOM rows\", fontsize=fontsize)\n",
    "    if i // 3 == 1:\n",
    "        ax.set_xlabel(\"SOM columns\", fontsize=fontsize)\n",
    "\n",
    "    for tick in ax.xaxis.get_major_ticks():\n",
    "        tick.label.set_fontsize(fontsize)\n",
    "    for tick in ax.yaxis.get_major_ticks():\n",
    "        tick.label.set_fontsize(fontsize)\n",
    "    \n",
    "    if i == len(areas_stacked)-1:\n",
    "        cbar = plt.colorbar(img[3], ax=ax_list[-1,-1])\n",
    "        cbar.ax.tick_params(labelsize=fontsize)\n",
    "        cbar.ax.set_ylabel('Number of datapoints', fontsize=fontsize, labelpad=10)\n",
    "fig.delaxes(ax_list[-1,-1])\n",
    "    \n",
    "plt.tight_layout()\n",
    "plt.savefig(\"../plots/som_hist_all.pdf\", bbox_inches=\"tight\")"
   ]
  },
  {
   "cell_type": "raw",
   "metadata": {},
   "source": [
    "def plot_estimation_map_regression(estimation_map, title=\"\", fontsize=20):\n",
    "    plt.figure(figsize=(7,5))\n",
    "    plt.imshow(estimation_map, cmap=\"viridis_r\")\n",
    "    plt.xlabel(\"SOM columns\", fontsize=fontsize)\n",
    "    plt.ylabel(\"SOM rows\", fontsize=fontsize)\n",
    "    plt.xticks(fontsize=fontsize)\n",
    "    plt.yticks(fontsize=fontsize)\n",
    "    cbar = plt.colorbar()\n",
    "    cbar.ax.tick_params(labelsize=fontsize)\n",
    "    cbar.ax.set_ylabel('Soil moisture in %', fontsize=fontsize, labelpad=10)\n",
    "    for label in cbar.ax.xaxis.get_ticklabels()[::2]:\n",
    "        label.set_visible(False)\n",
    "    plt.grid(b=False)\n",
    "    plt.savefig(\"plots/som_estimationmap\"+title+\".pdf\")"
   ]
  },
  {
   "cell_type": "raw",
   "metadata": {},
   "source": [
    "estimation_map = model.get_estimation_map()\n",
    "plot_estimation_map_regression(np.squeeze(estimation_map))"
   ]
  },
  {
   "cell_type": "markdown",
   "metadata": {},
   "source": [
    "## Quantitative Detection of Dataset Shift"
   ]
  },
  {
   "cell_type": "code",
   "execution_count": null,
   "metadata": {},
   "outputs": [],
   "source": [
    "steps = 3\n",
    "bins = [np.arange(0, n_columns, steps), np.arange(0, n_rows, steps)]\n",
    "\n",
    "\n",
    "for i, area in enumerate(areas_stacked):\n",
    "    X_area = df[df[\"area\"].isin(area)][hypbands.astype(\"str\")].values\n",
    "    X_notarea = df[~df[\"area\"].isin(area)][hypbands.astype(\"str\")].values\n",
    "    \n",
    "    clusters = model.get_clusters(X_area)\n",
    "    clusters_notarea = model.get_clusters(X_notarea)\n",
    "    \n",
    "    grid, _, _ = np.histogram2d([x[1] for x in clusters], [x[0] for x in clusters], bins=bins)\n",
    "    grid_notarea, _, _ = np.histogram2d([x[1] for x in clusters_notarea],\n",
    "                                        [x[0] for x in clusters_notarea], bins=bins)\n",
    "\n",
    "    n_overlap = np.count_nonzero((grid != 0)*(grid_notarea != 0) == True)\n",
    "    print(n_overlap)\n",
    "    n_neurons = np.count_nonzero(grid!=0.)\n",
    "\n",
    "    n_allneurons = grid.shape[0]*grid.shape[1]\n",
    "    print(\"Percentage of the SOM grid: {0:.1f} %\".format(n_neurons/n_allneurons*100))\n",
    "    print(\"Percentage of overlap with others: {0:.1f} %\".format(n_overlap/n_neurons*100))\n",
    "    print()"
   ]
  },
  {
   "cell_type": "code",
   "execution_count": null,
   "metadata": {},
   "outputs": [],
   "source": []
  }
 ],
 "metadata": {
  "kernelspec": {
   "display_name": "Python 3",
   "language": "python",
   "name": "python3"
  },
  "language_info": {
   "codemirror_mode": {
    "name": "ipython",
    "version": 3
   },
   "file_extension": ".py",
   "mimetype": "text/x-python",
   "name": "python",
   "nbconvert_exporter": "python",
   "pygments_lexer": "ipython3",
   "version": "3.7.7"
  },
  "varInspector": {
   "cols": {
    "lenName": 16,
    "lenType": 16,
    "lenVar": 40
   },
   "kernels_config": {
    "python": {
     "delete_cmd_postfix": "",
     "delete_cmd_prefix": "del ",
     "library": "var_list.py",
     "varRefreshCmd": "print(var_dic_list())"
    },
    "r": {
     "delete_cmd_postfix": ") ",
     "delete_cmd_prefix": "rm(",
     "library": "var_list.r",
     "varRefreshCmd": "cat(var_dic_list()) "
    }
   },
   "types_to_exclude": [
    "module",
    "function",
    "builtin_function_or_method",
    "instance",
    "_Feature"
   ],
   "window_display": false
  }
 },
 "nbformat": 4,
 "nbformat_minor": 2
}
