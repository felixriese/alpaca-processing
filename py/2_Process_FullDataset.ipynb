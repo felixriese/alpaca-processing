{
 "cells": [
  {
   "cell_type": "markdown",
   "metadata": {},
   "source": [
    "# 2. Process the Full Dataset\n",
    "\n",
    "<div class=\"alert alert-block alert-info\">\n",
    "    <b>About:</b>\n",
    "    This notebook refers to the studies presented in <b>Chapter 5.3</b> of the Ph.D. thesis [3].\n",
    "    We can not guarantee completeness or correctness of the code.\n",
    "    If you find bugs or if you have suggestions on how to improve the code, we encourage you to post your ideas as <a href=\"https://github.com/felixriese/alpaca-processing/issues\">GitHub issue</a>.\n",
    "</div>"
   ]
  },
  {
   "cell_type": "code",
   "execution_count": 1,
   "metadata": {},
   "outputs": [],
   "source": [
    "%load_ext autoreload\n",
    "%autoreload 2"
   ]
  },
  {
   "cell_type": "code",
   "execution_count": 2,
   "metadata": {},
   "outputs": [],
   "source": [
    "import sys\n",
    "\n",
    "# needed, if the module is not installed:\n",
    "sys.path.insert(0, '../')\n",
    "from hprocessing import utils"
   ]
  },
  {
   "cell_type": "markdown",
   "metadata": {},
   "source": [
    "## Config"
   ]
  },
  {
   "cell_type": "code",
   "execution_count": null,
   "metadata": {},
   "outputs": [],
   "source": [
    "# CHANGE paths\n",
    "hyp_path = \"/home/felix/data/hyperspectral-data/\"\n",
    "ref_path = \"/home/felix/data/shapes/\"\n",
    "\n",
    "# CHANGE areas\n",
    "areas = [\"1\", \"2_1\", \"2_2\", \"3\", \"4\", \"5\"]\n",
    "\n",
    " # CHANGE verbosity (0 = None)\n",
    "verbose = 1"
   ]
  },
  {
   "cell_type": "markdown",
   "metadata": {},
   "source": [
    "## Process hyperspectral images\n",
    "\n",
    "* **Input:** `.tif` files from ALPACA dataset\n",
    "* **Output:** depends on `return_mode`:\n",
    "    - `pickle`: Saves the data in pickle binary files.\n",
    "    - `return`: Returns the files.\n",
    "    - `csv`: Saves csv file."
   ]
  },
  {
   "cell_type": "code",
   "execution_count": null,
   "metadata": {},
   "outputs": [],
   "source": [
    "utils.processImages(hyp_path=hyp_path,\n",
    "                    ref_path=ref_path,\n",
    "                    areas=areas,\n",
    "                    verbose=verbose)"
   ]
  },
  {
   "cell_type": "markdown",
   "metadata": {},
   "source": [
    "## Train Autoencoder & PCA"
   ]
  },
  {
   "cell_type": "code",
   "execution_count": null,
   "metadata": {},
   "outputs": [],
   "source": [
    "utils.trainAutoencoderPerArea(areas, bottleneck=5)"
   ]
  },
  {
   "cell_type": "code",
   "execution_count": null,
   "metadata": {},
   "outputs": [],
   "source": [
    "utils.trainPCAPerArea(areas, n_components=30)"
   ]
  },
  {
   "cell_type": "markdown",
   "metadata": {},
   "source": [
    "## Estimate"
   ]
  },
  {
   "cell_type": "code",
   "execution_count": null,
   "metadata": {},
   "outputs": [],
   "source": [
    "# --- estimation per area:\n",
    "# for area in areas:\n",
    "#     if verbose:\n",
    "#         print(\"-\"*40)\n",
    "#         print(\"| Area\", area)\n",
    "#     model = utils.trainSoilmoistureEstimator(\n",
    "#         area=area, dim_red_mode=dim_red_mode, verbose=verbose)\n",
    "#     utils.predictSoilmoistureMap(\n",
    "#         area, model, dim_red_mode=dim_red_mode, verbose=verbose)\n",
    "    \n",
    "# --- estimation for all areas together:\n",
    "model = utils.trainSoilmoistureEstimator(\n",
    "    area=areas, dim_red_mode=dim_red_mode, verbose=verbose)\n",
    "for area in areas:\n",
    "    utils.predictSoilmoistureMap(\n",
    "        area, model, dim_red_mode=dim_red_mode, postfix=\"_all\",\n",
    "        verbose=verbose)"
   ]
  }
 ],
 "metadata": {
  "kernelspec": {
   "display_name": "Python 3",
   "language": "python",
   "name": "python3"
  },
  "language_info": {
   "codemirror_mode": {
    "name": "ipython",
    "version": 3
   },
   "file_extension": ".py",
   "mimetype": "text/x-python",
   "name": "python",
   "nbconvert_exporter": "python",
   "pygments_lexer": "ipython3",
   "version": "3.7.7"
  },
  "varInspector": {
   "cols": {
    "lenName": 16,
    "lenType": 16,
    "lenVar": 40
   },
   "kernels_config": {
    "python": {
     "delete_cmd_postfix": "",
     "delete_cmd_prefix": "del ",
     "library": "var_list.py",
     "varRefreshCmd": "print(var_dic_list())"
    },
    "r": {
     "delete_cmd_postfix": ") ",
     "delete_cmd_prefix": "rm(",
     "library": "var_list.r",
     "varRefreshCmd": "cat(var_dic_list()) "
    }
   },
   "types_to_exclude": [
    "module",
    "function",
    "builtin_function_or_method",
    "instance",
    "_Feature"
   ],
   "window_display": false
  }
 },
 "nbformat": 4,
 "nbformat_minor": 2
}
