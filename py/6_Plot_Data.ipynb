{
 "cells": [
  {
   "cell_type": "markdown",
   "metadata": {},
   "source": [
    "# 6. Various Plots\n",
    "\n",
    "<div class=\"alert alert-block alert-info\">\n",
    "    <b>About:</b>\n",
    "    This notebook refers to the studies presented in <b>Chapter 5.3 and 5.4</b> of the Ph.D. thesis [3].\n",
    "    We can not guarantee completeness or correctness of the code.\n",
    "    If you find bugs or if you have suggestions on how to improve the code, we encourage you to post your ideas as <a href=\"https://github.com/felixriese/alpaca-processing/issues\">GitHub issue</a>.\n",
    "</div>"
   ]
  },
  {
   "cell_type": "code",
   "execution_count": null,
   "metadata": {},
   "outputs": [],
   "source": [
    "%load_ext autoreload\n",
    "%autoreload 2"
   ]
  },
  {
   "cell_type": "code",
   "execution_count": null,
   "metadata": {},
   "outputs": [],
   "source": [
    "import numpy as np\n",
    "import seaborn as sns\n",
    "import matplotlib.pyplot as plt\n",
    "import pickle\n",
    "from sklearn.ensemble import RandomForestClassifier, ExtraTreesClassifier\n",
    "from sklearn.model_selection import cross_validate, train_test_split\n",
    "import sklearn.metrics as me\n",
    "from scipy.signal import savgol_filter\n",
    "import pandas as pd\n",
    "from tqdm.notebook import tqdm\n",
    "\n",
    "import utils"
   ]
  },
  {
   "cell_type": "markdown",
   "metadata": {},
   "source": [
    "## Load data"
   ]
  },
  {
   "cell_type": "code",
   "execution_count": null,
   "metadata": {},
   "outputs": [],
   "source": [
    "# CHANGE maximum soilmoisture value\n",
    "max_sm = 40\n",
    "\n",
    "# CHANGE areas from [\"1\", \"2_1\", \"2_2\", \"3\", \"4\", \"5\"]\n",
    "areas = [\"1\", \"2_1\", \"2_2\", \"3\", \"4\", \"5\"]\n",
    "areas_stacked = [[\"1\"], [\"2_1\", \"2_2\"], [\"3\"], [\"4\"], [\"5\"]]"
   ]
  },
  {
   "cell_type": "code",
   "execution_count": null,
   "metadata": {},
   "outputs": [],
   "source": [
    "color_dict = {\n",
    "    \"1\": \"tab:blue\",\n",
    "    \"2\": \"tab:green\",\n",
    "    \"3\": \"tab:red\",\n",
    "    \"4\": \"tab:purple\",\n",
    "    \"5\": \"tab:orange\",}"
   ]
  },
  {
   "cell_type": "code",
   "execution_count": null,
   "metadata": {},
   "outputs": [],
   "source": [
    "# load data\n",
    "df = pd.read_csv(\"data/peru_data.csv\", index_col=0)\n",
    "\n",
    "# remove areas which are not used\n",
    "df = df[df[\"area\"].isin(areas)]\n",
    "\n",
    "# remove too large soil moisture values\n",
    "df = df[df[\"soilmoisture\"]<=max_sm]\n",
    "\n",
    "# define hyperspectral bands\n",
    "hypbands = utils.getHyperspectralBands(True)\n",
    "hypbands_all = utils.getHyperspectralBands(False)\n",
    "# print(hypbands.shape)\n",
    "\n",
    "# create arrays\n",
    "X = df[hypbands.astype(\"str\")].values\n",
    "y = df[\"soilmoisture\"].values"
   ]
  },
  {
   "cell_type": "code",
   "execution_count": null,
   "metadata": {},
   "outputs": [],
   "source": [
    "# mask data with too large soil moisture values\n",
    "mask = y < max_sm\n",
    "y = y[mask]\n",
    "X = X[mask]\n",
    "print(X.shape, y.shape)"
   ]
  },
  {
   "cell_type": "markdown",
   "metadata": {},
   "source": [
    "## Soil Moisture Histogram"
   ]
  },
  {
   "cell_type": "code",
   "execution_count": null,
   "metadata": {},
   "outputs": [],
   "source": [
    "fontsize = 18\n",
    "\n",
    "fig, ax = plt.subplots(1, 1, figsize=(10, 4))\n",
    "bins = np.arange(0, max_sm, 1)\n",
    "n, bins, patches = plt.hist(y, bins=bins)\n",
    "plt.xlim(0, max_sm)\n",
    "plt.ylim(0, np.max(n)*1.3)\n",
    "plt.xlabel(\"Soil moisture in %\", fontsize=fontsize, labelpad=12)\n",
    "plt.ylabel(\"Number of datapoints\", fontsize=fontsize, labelpad=12)\n",
    "\n",
    "for tick in ax.xaxis.get_major_ticks():\n",
    "    tick.label.set_fontsize(fontsize)\n",
    "for tick in ax.yaxis.get_major_ticks():\n",
    "    tick.label.set_fontsize(fontsize)\n",
    "plt.tight_layout()\n",
    "plt.savefig(\"plots/hist_soilmoisture.pdf\", bbox_inches=\"tight\")"
   ]
  },
  {
   "cell_type": "code",
   "execution_count": null,
   "metadata": {},
   "outputs": [],
   "source": [
    "fontsize = 18\n",
    "\n",
    "bins = np.arange(0, max_sm, 3)\n",
    "fig, ax_list = plt.subplots(2, 3, figsize=(12, 8), sharey=True) #, sharex=True)\n",
    "for i, area in enumerate(areas_stacked):\n",
    "    ax = ax_list[i//3, i%3]\n",
    "    \n",
    "    n, bins, patches = ax.hist(df[df[\"area\"].isin(area)][\"soilmoisture\"].values,\n",
    "                                bins=bins, #label=\"Area \"+str(area[0][0]),\n",
    "                                alpha=1.0, histtype=\"bar\", stacked=True,\n",
    "                               color=color_dict[str(area[0][0])])\n",
    "\n",
    "    ax.set_title(\"Area A\"+str(area[0][0]), fontsize=fontsize, y=0.88)\n",
    "    # ax.set_xlim(0, max_sm)\n",
    "    # ax.set_ylim(n_rows, 0)\n",
    "\n",
    "    if i % 3 == 0:\n",
    "        ax.set_ylabel(\"Number of datapoints\", fontsize=fontsize, labelpad=15)\n",
    "    #if (i // 3 == 1) or (i == 2):\n",
    "    ax.set_xlabel(\"Soil moisture in %\", fontsize=fontsize)\n",
    "\n",
    "    for tick in ax.xaxis.get_major_ticks():\n",
    "        tick.label.set_fontsize(fontsize)\n",
    "    for tick in ax.yaxis.get_major_ticks():\n",
    "        tick.label.set_fontsize(fontsize)\n",
    "\n",
    "fig.delaxes(ax_list[-1,-1])\n",
    "    \n",
    "plt.tight_layout()\n",
    "plt.savefig(\"plots/hist_perarea_soilmoisture.pdf\", bbox_inches=\"tight\")"
   ]
  },
  {
   "cell_type": "markdown",
   "metadata": {},
   "source": [
    "## Spectra per area"
   ]
  },
  {
   "cell_type": "code",
   "execution_count": null,
   "metadata": {},
   "outputs": [],
   "source": [
    "fontsize = 18\n",
    "\n",
    "fig, ax = plt.subplots(1, 1, figsize=(12, 4))\n",
    "for area in [[\"1\"], [\"2_1\", \"2_2\"], [\"3_2\"], [\"4n\"], [\"5a\", \"5b\"]]:\n",
    "    # include nans because of gaps, see https://matplotlib.org/examples/pylab_examples/nan_test.html\n",
    "    area_spectra = df[df[\"area\"].isin(area)][hypbands.astype(\"str\")]\n",
    "    area_spectra_nan = np.full(shape=(area_spectra.shape[0], 170), fill_value=np.nan)\n",
    "    indices = [i for i, a in enumerate(hypbands_all) if a in hypbands]\n",
    "    area_spectra_nan[:, indices] = area_spectra\n",
    "    \n",
    "    ax.step(hypbands_all, np.mean(area_spectra_nan, axis=0), label=\"Area A\"+area[0][0], linestyle=\"solid\",\n",
    "            color=color_dict[area[0][0]])\n",
    "    # plt.plot(hypbands, np.median(area_spectra, axis=0), label=area, linestyle=\"dashed\")\n",
    "    # plt.fill_between(hypbands, np.mean(area_spectra) + np.std(area_spectra),\n",
    "    #                  np.mean(area_spectra) - np.std(area_spectra), alpha=0.2)\n",
    "ax.legend(ncol=1, fontsize=fontsize, frameon=False, bbox_to_anchor=(1.0, 0.85))\n",
    "ax.set_xlabel(\"Wavelength in nm\", fontsize=fontsize, labelpad=12)\n",
    "ax.set_ylabel(\"Reflectance\", fontsize=fontsize, labelpad=12)\n",
    "ax.set_xlim(800, 2400)\n",
    "\n",
    "for tick in ax.xaxis.get_major_ticks():\n",
    "    tick.label.set_fontsize(fontsize)\n",
    "for tick in ax.yaxis.get_major_ticks():\n",
    "    tick.label.set_fontsize(fontsize)\n",
    "plt.tight_layout()\n",
    "plt.savefig(\"plots/spectra_mean_all.pdf\", bbox_inches=\"tight\")"
   ]
  },
  {
   "cell_type": "markdown",
   "metadata": {},
   "source": [
    "## Removed bands"
   ]
  },
  {
   "cell_type": "code",
   "execution_count": null,
   "metadata": {},
   "outputs": [],
   "source": [
    "fontsize = 18\n",
    "leg_factor = 1.0\n",
    "\n",
    "# remove_bands_full = [0, 1, 49, 50, 51, 52, 53, 98, 99, 100, 101, 102, 103, 104, 105,\n",
    "#                      106, 107, 108, 109, 110, 111, 154, 155, 156, 157, 158, 159, 160,\n",
    "#                      161, 162, 163, 164, 165, 166, 167, 168, 169]\n",
    "remove_bands_full = utils.getIgnoredBands()\n",
    "\n",
    "area_spectra = df[df[\"area\"] == \"1\"][hypbands.astype(\"str\")]\n",
    "area_spectra_nan = np.full(shape=(area_spectra.shape[0], 170), fill_value=np.nan)\n",
    "indices = [i for i, a in enumerate(hypbands_all) if a in hypbands]\n",
    "area_spectra_nan[:, indices] = area_spectra\n",
    "\n",
    "# plot_proc = np.copy(plot_spec)\n",
    "# plot_proc[remove_bands_full] = 0\n",
    "\n",
    "fig, ax = plt.subplots(1, 1, figsize=(12, 4))\n",
    "# ax.plot(hypbands_all, np.mean(area_spectra_nan, axis=0), label=\"Mean spectrum of area A1\")\n",
    "ax.step(hypbands_all, np.mean(area_spectra_nan, axis=0), color=\"tab:blue\",\n",
    "        label=\"Mean spectrum\")\n",
    "ax.errorbar(hypbands_all, np.mean(area_spectra_nan, axis=0),\n",
    "            yerr=np.std(area_spectra_nan, axis=0), label=\"Standard deviation\",\n",
    "           fmt=\"none\", color=\"tab:blue\", alpha=0.5)\n",
    "\n",
    "for i, b in enumerate(remove_bands_full):\n",
    "    if i == 0:\n",
    "        ax.axvline(x=hypbands_all[b], c=\"tab:orange\", alpha=1.0, label=\"Removed bands\")\n",
    "    else:\n",
    "        ax.axvline(x=hypbands_all[b], c=\"tab:orange\", alpha=1.0)\n",
    "\n",
    "ax.set_xlim(hypbands_all[0]-20, hypbands_all[-1]+20)\n",
    "ax.set_ylim(0, 0.6)\n",
    "\n",
    "ax.set_xlabel(\"Wavelength in nm\", fontsize=fontsize, labelpad=12)\n",
    "ax.set_ylabel(\"Reflectance\", fontsize=fontsize, labelpad=12)\n",
    "\n",
    "for tick in ax.xaxis.get_major_ticks():\n",
    "    tick.label.set_fontsize(fontsize)\n",
    "for tick in ax.yaxis.get_major_ticks():\n",
    "    tick.label.set_fontsize(fontsize)\n",
    "\n",
    "plt.legend(fontsize=fontsize*leg_factor, ncol=1, bbox_to_anchor=(1.0, 0.7), frameon=False)\n",
    "plt.tight_layout()\n",
    "plt.savefig(\"plots/remove_bands.pdf\", bbox_inches=\"tight\")"
   ]
  },
  {
   "cell_type": "code",
   "execution_count": null,
   "metadata": {},
   "outputs": [],
   "source": []
  }
 ],
 "metadata": {
  "kernelspec": {
   "display_name": "Python 3",
   "language": "python",
   "name": "python3"
  },
  "language_info": {
   "codemirror_mode": {
    "name": "ipython",
    "version": 3
   },
   "file_extension": ".py",
   "mimetype": "text/x-python",
   "name": "python",
   "nbconvert_exporter": "python",
   "pygments_lexer": "ipython3",
   "version": "3.7.7"
  },
  "varInspector": {
   "cols": {
    "lenName": 16,
    "lenType": 16,
    "lenVar": 40
   },
   "kernels_config": {
    "python": {
     "delete_cmd_postfix": "",
     "delete_cmd_prefix": "del ",
     "library": "var_list.py",
     "varRefreshCmd": "print(var_dic_list())"
    },
    "r": {
     "delete_cmd_postfix": ") ",
     "delete_cmd_prefix": "rm(",
     "library": "var_list.r",
     "varRefreshCmd": "cat(var_dic_list()) "
    }
   },
   "types_to_exclude": [
    "module",
    "function",
    "builtin_function_or_method",
    "instance",
    "_Feature"
   ],
   "window_display": false
  }
 },
 "nbformat": 4,
 "nbformat_minor": 2
}
