{
 "cells": [
  {
   "cell_type": "markdown",
   "metadata": {},
   "source": [
    "# 5. Estimation – Monte Carlo Augmented Data\n",
    "\n",
    "<div class=\"alert alert-block alert-info\">\n",
    "    <b>About:</b>\n",
    "    This notebook refers to the studies presented in <b>Chapter 5.5</b> of the Ph.D. thesis [3].\n",
    "    We can not guarantee completeness or correctness of the code.\n",
    "    If you find bugs or if you have suggestions on how to improve the code, we encourage you to post your ideas as <a href=\"https://github.com/felixriese/alpaca-processing/issues\">GitHub issue</a>.\n",
    "</div>\n",
    "\n",
    "## Imports"
   ]
  },
  {
   "cell_type": "code",
   "execution_count": null,
   "metadata": {},
   "outputs": [],
   "source": [
    "%load_ext autoreload\n",
    "%autoreload 2"
   ]
  },
  {
   "cell_type": "code",
   "execution_count": null,
   "metadata": {},
   "outputs": [],
   "source": [
    "from sklearn.ensemble import RandomForestRegressor\n",
    "from sklearn.model_selection import train_test_split\n",
    "import sklearn.metrics as me\n",
    "import numpy as np\n",
    "import matplotlib.pyplot as plt\n",
    "from tqdm.notebook import tqdm\n",
    "import susi\n",
    "import pandas as pd\n",
    "import pickle\n",
    "\n",
    "import utils"
   ]
  },
  {
   "cell_type": "code",
   "execution_count": null,
   "metadata": {},
   "outputs": [],
   "source": [
    "def fit_model(model, data):\n",
    "    X_train, X_test, y_train, y_test = data\n",
    "    \n",
    "    # fit and predict\n",
    "    model.fit(X_train, y_train)\n",
    "    y_pred = model.predict(X_test)\n",
    "\n",
    "    # evaluate\n",
    "    r2 = me.r2_score(y_test, y_pred)\n",
    "    rmse = np.sqrt(me.mean_squared_error(y_test, y_pred))\n",
    "    mae = me.mean_absolute_error(y_test, y_pred)\n",
    "    \n",
    "    return r2, rmse, mae"
   ]
  },
  {
   "cell_type": "markdown",
   "metadata": {},
   "source": [
    "## Regression over number of datapoints\n",
    "### Generate estimations"
   ]
  },
  {
   "cell_type": "code",
   "execution_count": null,
   "metadata": {},
   "outputs": [],
   "source": [
    "# CHANGE\n",
    "area = [\"1\", \"3\"]\n",
    "# postfix = area[0][0]\n",
    "postfix = \"1+3\"\n",
    "\n",
    "test_sizes = np.round(np.arange(0.15, 0.35, 0.05), 2)\n",
    "mc_args = {\"std\": 2, \"n_new\": 10, \"area\": area, \"max_sm\": 40}\n",
    "\n",
    "# load data for checks only\n",
    "_, y = utils.loadCSVData(area, max_sm=mc_args[\"max_sm\"])\n",
    "print(\"Area {0} with {1} datapoints and soil moisture of {2:.2f} ± {3:.2f} %.\".format(\n",
    "    area, len(y), np.mean(y), np.std(y)))\n",
    "\n",
    "# for plots only\n",
    "meas_error = 4.\n",
    "meas_error_std = 2.2/2\n",
    "\n",
    "# plot histo\n",
    "fig, ax = plt.subplots(1, 1)\n",
    "n, _, _ = plt.hist(y)\n",
    "ax.set_ylim(0, max(n)*1.5)\n",
    "\n",
    "ax.set_xlabel(\"Soil moisture in %\")\n",
    "ax.set_ylabel(\"Number of datapoints\")"
   ]
  },
  {
   "cell_type": "code",
   "execution_count": null,
   "metadata": {},
   "outputs": [],
   "source": [
    "results = {\n",
    "    \"model\": [],\n",
    "    \"r2\": [],\n",
    "    \"rmse\": [],\n",
    "    \"mae\": [],\n",
    "    \"test_size\": [],\n",
    "    \"random_state\": []}\n",
    "\n",
    "for i, test_size in enumerate(tqdm(test_sizes)):\n",
    "\n",
    "    for random_state in range(40):\n",
    "        data = utils.getMCSoilMoistureData(\n",
    "            test_size=test_size, random_state=random_state, **mc_args)\n",
    "\n",
    "        # --- SOM\n",
    "        model = susi.SOMRegressor(n_rows=10, n_columns=10,\n",
    "                                  n_iter_unsupervised=2000, n_iter_supervised=1000)\n",
    "        r2, rmse, mae = fit_model(model, data)\n",
    "        results[\"r2\"].append(r2)\n",
    "        results[\"rmse\"].append(rmse)\n",
    "        results[\"mae\"].append(mae)\n",
    "        results[\"test_size\"].append(test_size)\n",
    "        results[\"random_state\"].append(random_state)\n",
    "        results[\"model\"].append(\"SOM\")\n",
    "\n",
    "        # --- RF\n",
    "        model = RandomForestRegressor(n_estimators=100, n_jobs=-1)\n",
    "        r2, rmse, mae = fit_model(model, data)\n",
    "        results[\"r2\"].append(r2)\n",
    "        results[\"rmse\"].append(rmse)\n",
    "        results[\"mae\"].append(mae)\n",
    "        results[\"test_size\"].append(test_size)\n",
    "        results[\"random_state\"].append(random_state)\n",
    "        results[\"model\"].append(\"RF\")\n",
    "        \n",
    "results_df = pd.DataFrame(results)"
   ]
  },
  {
   "cell_type": "raw",
   "metadata": {},
   "source": [
    "results_df.to_csv(\"results/mc_som_rf.csv\")\n",
    "print(results_df.shape)\n",
    "results_df.head()"
   ]
  },
  {
   "cell_type": "markdown",
   "metadata": {},
   "source": [
    "## Plots"
   ]
  },
  {
   "cell_type": "code",
   "execution_count": null,
   "metadata": {},
   "outputs": [],
   "source": [
    "color_list = [\"tab:blue\", \"tab:orange\"]"
   ]
  },
  {
   "cell_type": "code",
   "execution_count": null,
   "metadata": {},
   "outputs": [],
   "source": [
    "fontsize = 18\n",
    "fig, ax = plt.subplots(1, 1, figsize=(6, 5))\n",
    "\n",
    "a_min = -0.5 * 100\n",
    "a_max = 1. * 100\n",
    "y_max = 60\n",
    "bins = np.arange(a_min, a_max, 0.1*100)\n",
    "\n",
    "for i, m in enumerate(np.unique(results_df.model)):\n",
    "    r2_list = results_df[results_df[\"model\"]==m][\"r2\"].values\n",
    "    ax.hist(np.clip(r2_list*100, a_min=a_min, a_max=a_max), bins=bins, label=m, alpha=0.5,\n",
    "            color=color_list[i])\n",
    "    print(\"{0:10}  |\\tOf {1} are {2} ({3:.1f} %) above 0. Median = {4:.1f} %. Mean = {5:.1f} %.\".format(\n",
    "        m, len(np.ravel(r2_list)), sum(np.ravel(r2_list)>0.),\n",
    "        sum(np.ravel(r2_list)>0.)/len(np.ravel(r2_list))*100,\n",
    "        np.median(r2_list)*100, np.mean(r2_list)*100))\n",
    "    ax.axvline(np.median(r2_list)*100, label=m+\" median\",\n",
    "               color=color_list[i], linestyle=\"dashed\")\n",
    "ax.set_xlim(a_min, a_max)\n",
    "ax.set_ylim(0, y_max)\n",
    "\n",
    "ax.set_xlabel(\"$R^2$ in %\", fontsize=fontsize)\n",
    "ax.set_ylabel(\"Number of experiments\", fontsize=fontsize, labelpad=10)\n",
    "for tick in ax.xaxis.get_major_ticks():\n",
    "    tick.label.set_fontsize(fontsize)\n",
    "for tick in ax.yaxis.get_major_ticks():\n",
    "    tick.label.set_fontsize(fontsize)\n",
    "    \n",
    "plt.legend(fontsize=fontsize*0.8)\n",
    "plt.tight_layout()\n",
    "plt.savefig(\"plots/mc_area\"+postfix+\"_hist_r2.pdf\", bbox_inches=\"tight\")"
   ]
  },
  {
   "cell_type": "code",
   "execution_count": null,
   "metadata": {},
   "outputs": [],
   "source": [
    "fontsize = 18\n",
    "fig, ax = plt.subplots(1, 1, figsize=(6, 5))\n",
    "\n",
    "a_min = -0.5\n",
    "y_max = 120\n",
    "bins = np.arange(1, 12, 1)\n",
    "\n",
    "for i, m in enumerate(np.unique(results_df.model)):\n",
    "    mae_list = results_df[results_df[\"model\"]==m][\"mae\"].values\n",
    "    ax.hist(mae_list, label=m, alpha=0.5, bins=bins, color=color_list[i])\n",
    "    print(\"{0:10}  |\\t Median = {1:.1f} %. Mean = {2:.1f} %.\".format(\n",
    "        m, np.median(mae_list), np.mean(mae_list)))\n",
    "    ax.axvline(np.median(mae_list), label=m+\" median\",\n",
    "               color=color_list[i], linestyle=\"dashed\")\n",
    "ax.set_xlim(bins[0], bins[-1])\n",
    "ax.set_ylim(0, y_max)\n",
    "\n",
    "ax.set_xlabel(\"MAE in % soil moisture\", fontsize=fontsize)\n",
    "ax.set_ylabel(\"Number of experiments\", fontsize=fontsize, labelpad=10)\n",
    "for tick in ax.xaxis.get_major_ticks():\n",
    "    tick.label.set_fontsize(fontsize)\n",
    "for tick in ax.yaxis.get_major_ticks():\n",
    "    tick.label.set_fontsize(fontsize)\n",
    "    \n",
    "plt.legend(fontsize=fontsize*0.8)\n",
    "plt.tight_layout()\n",
    "plt.savefig(\"plots/mc_area\"+postfix+\"_hist_mae.pdf\", bbox_inches=\"tight\")"
   ]
  },
  {
   "cell_type": "code",
   "execution_count": null,
   "metadata": {},
   "outputs": [],
   "source": [
    "fontsize = 18\n",
    "fig, ax = plt.subplots(1, 1, figsize=(6, 5))\n",
    "\n",
    "y_max = 120\n",
    "bins = np.arange(1, 13, 1)\n",
    "\n",
    "for i, m in enumerate(np.unique(results_df.model)):\n",
    "    rmse_list = results_df[results_df[\"model\"]==m][\"rmse\"].values\n",
    "    ax.hist(rmse_list, label=m, alpha=0.5, bins=bins, color=color_list[i])\n",
    "    print(\"{0:10}  |\\t Median = {1:.1f} %. Mean = {2:.1f} %.\".format(\n",
    "        m, np.median(rmse_list), np.mean(rmse_list)))\n",
    "    ax.axvline(np.median(rmse_list), label=m+\" median\",\n",
    "               color=color_list[i], linestyle=\"dashed\")\n",
    "ax.set_xlim(bins[0], bins[-1])\n",
    "ax.set_ylim(0, y_max)\n",
    "\n",
    "ax.set_xlabel(\"RMSE in % soil moisture\", fontsize=fontsize)\n",
    "ax.set_ylabel(\"Number of experiments\", fontsize=fontsize, labelpad=10)\n",
    "for tick in ax.xaxis.get_major_ticks():\n",
    "    tick.label.set_fontsize(fontsize)\n",
    "for tick in ax.yaxis.get_major_ticks():\n",
    "    tick.label.set_fontsize(fontsize)\n",
    "    \n",
    "plt.legend(fontsize=fontsize*0.8)\n",
    "plt.tight_layout()\n",
    "plt.savefig(\"plots/mc_area\"+postfix+\"_hist_rmse.pdf\", bbox_inches=\"tight\")"
   ]
  },
  {
   "cell_type": "markdown",
   "metadata": {},
   "source": [
    "## MC data histogram plot"
   ]
  },
  {
   "cell_type": "code",
   "execution_count": null,
   "metadata": {},
   "outputs": [],
   "source": [
    "X, y = utils.loadCSVData(areas=area, max_sm=mc_args[\"max_sm\"])\n",
    "X_new, y_new = utils.generateMCData(X=X, y=y, std=mc_args[\"std\"], n_new=mc_args[\"n_new\"], verbose=0)\n",
    "\n",
    "normed = False\n",
    "bins = np.arange(int(min(y_new)), int(max(y_new))+2, 2)\n",
    "fontsize = 15\n",
    "\n",
    "fig, ax = plt.subplots(1, 1, figsize=(7, 4))\n",
    "n, _, _ = ax.hist(y_new, density=normed, alpha=1.0, label=\"Monte Carlo\", bins=bins)\n",
    "ax.hist(y, density=normed, alpha=1.0, label=\"Original\", bins=bins, histtype=\"step\", linewidth=3)\n",
    "# ax.set_title(\"Area \"+area[0][0], fontsize=fontsize)\n",
    "ax.legend(fontsize=fontsize*1.0, frameon=False)\n",
    "ax.set_ylim(0, max(n)*1.5)\n",
    "\n",
    "ax.set_xlabel(\"Soil moisture in %\", fontsize=fontsize)\n",
    "ax.set_ylabel(\"Number of datapoints\", fontsize=fontsize)\n",
    "for tick in ax.xaxis.get_major_ticks():\n",
    "    tick.label.set_fontsize(fontsize)\n",
    "for tick in ax.yaxis.get_major_ticks():\n",
    "    tick.label.set_fontsize(fontsize)\n",
    "    \n",
    "plt.tight_layout()\n",
    "plt.savefig(\"plots/mc_area\"+postfix+\"_hist.pdf\", bbox_inches=\"tight\")"
   ]
  },
  {
   "cell_type": "markdown",
   "metadata": {},
   "source": [
    "## Scatter plot"
   ]
  },
  {
   "cell_type": "raw",
   "metadata": {},
   "source": [
    "# results_df.iloc[309]  # [(results_df[\"test_size\"]==0.3) & (results_df[\"model\"]==\"SOM\")]\n",
    "results_df[\"r2\"].tail(40)"
   ]
  },
  {
   "cell_type": "code",
   "execution_count": null,
   "metadata": {},
   "outputs": [],
   "source": [
    "# CHANGE index for plot\n",
    "i = 312\n",
    "\n",
    "model_single = susi.SOMRegressor(n_rows=10, n_columns=10,\n",
    "                          n_iter_unsupervised=2000, n_iter_supervised=1000)\n",
    "X_train, X_test, y_train, y_test = utils.getMCSoilMoistureData(\n",
    "    test_size=results_df.iloc[i][\"test_size\"],\n",
    "    random_state=results_df.iloc[i][\"random_state\"], **mc_args)\n",
    "\n",
    "# fit and predict\n",
    "model_single.fit(X_train, y_train)\n",
    "y_pred_single = model_single.predict(X_test)\n",
    "print(\"R2 = {0:.1f} %\".format(100*me.r2_score(y_test, y_pred_single)))\n",
    "\n",
    "# plot\n",
    "fontsize = 15\n",
    "fig, ax = plt.subplots(1, 1, figsize=(6, 6))\n",
    "factor = mc_args[\"n_new\"]+1\n",
    "ax.scatter(y_test, y_pred_single, alpha=0.4, label=\"Monte Carlo\")\n",
    "ax.scatter(y_test[::factor], y_pred_single[::factor], marker=\"x\", s=100, label=\"Measurements\")\n",
    "ax.set_xlabel(\"Soil moisture (ground truth) in %\", fontsize=fontsize, labelpad=10)\n",
    "ax.set_ylabel(\"Soil moisture (estimated) in %\", fontsize=fontsize, labelpad=10)\n",
    "for tick in ax.xaxis.get_major_ticks():\n",
    "    tick.label.set_fontsize(fontsize)\n",
    "for tick in ax.yaxis.get_major_ticks():\n",
    "    tick.label.set_fontsize(fontsize)\n",
    "\n",
    "# min_plot = min(min(y_test), min(y_pred_single))\n",
    "# max_plot = max(max(y_test), max(y_pred_single))\n",
    "min_plot = 1\n",
    "max_plot = 34\n",
    "ax.set_xlim(min_plot-1, max_plot+1)\n",
    "ax.set_ylim(min_plot-1, max_plot+1)\n",
    "ax.plot([min_plot-2, max_plot+2], [min_plot-2, max_plot+2], color=\"grey\", linewidth=1)\n",
    "ax.legend(fontsize=fontsize)\n",
    "plt.savefig(\"plots/mc_area\"+postfix+\"_scatter.pdf\", bbox_inches=\"tight\")"
   ]
  },
  {
   "cell_type": "markdown",
   "metadata": {},
   "source": [
    "## SOM estimation map"
   ]
  },
  {
   "cell_type": "code",
   "execution_count": null,
   "metadata": {},
   "outputs": [],
   "source": [
    "def plot_estimation_map_regression(estimation_map, sm_range=None,\n",
    "                                   title=\"\", fontsize=20):\n",
    "    plt.figure(figsize=(7,5))\n",
    "    if sm_range:\n",
    "        plt.imshow(estimation_map, cmap=\"viridis_r\",\n",
    "                   vmin=sm_range[0], vmax=sm_range[1])\n",
    "    else:\n",
    "        plt.imshow(estimation_map, cmap=\"viridis_r\")\n",
    "    plt.xlabel(\"SOM columns\", fontsize=fontsize)\n",
    "    plt.ylabel(\"SOM rows\", fontsize=fontsize)\n",
    "    plt.xticks(fontsize=fontsize)\n",
    "    plt.yticks(fontsize=fontsize)\n",
    "    cbar = plt.colorbar()\n",
    "    cbar.ax.tick_params(labelsize=fontsize)\n",
    "    cbar.ax.set_ylabel('Soil moisture in %', fontsize=fontsize, labelpad=10)\n",
    "    for label in cbar.ax.xaxis.get_ticklabels()[::2]:\n",
    "        label.set_visible(False)\n",
    "    plt.grid(b=False)\n",
    "    plt.tight_layout()\n",
    "    plt.savefig(\"plots/mc_area\"+postfix+\"_estimationmap\"+title+\".pdf\",\n",
    "                bbox_inches=\"tight\")"
   ]
  },
  {
   "cell_type": "code",
   "execution_count": null,
   "metadata": {},
   "outputs": [],
   "source": [
    "esti_map = model_single.get_estimation_map()\n",
    "plot_estimation_map_regression(np.squeeze(esti_map), sm_range=(9., 26.))"
   ]
  },
  {
   "cell_type": "markdown",
   "metadata": {},
   "source": [
    "## Plot Estimation Map Area 1"
   ]
  },
  {
   "cell_type": "code",
   "execution_count": null,
   "metadata": {},
   "outputs": [],
   "source": [
    "hyp_data_map = utils.predictSoilmoistureMap(\n",
    "    area=area[0], model=model_single, dim_red_mode=None,\n",
    "    # sm_range=(12., 29.),\n",
    "    postfix=\"mc\", verbose=1)"
   ]
  },
  {
   "cell_type": "code",
   "execution_count": null,
   "metadata": {},
   "outputs": [],
   "source": [
    "pickle.dump(hyp_data_map, open(\"estimations/hyp_data_map_mc_area1.p\", \"wb\"))"
   ]
  },
  {
   "cell_type": "code",
   "execution_count": null,
   "metadata": {},
   "outputs": [],
   "source": [
    "hyp_data_map = pickle.load(open(\"estimations/hyp_data_map_mc_area1.p\", \"rb\"))"
   ]
  },
  {
   "cell_type": "code",
   "execution_count": null,
   "metadata": {},
   "outputs": [],
   "source": [
    "print(\"Soil moisture between {0:.1f} and {1:.1f} %\".format(\n",
    "    np.min(hyp_data_map[hyp_data_map !=0]), np.max(hyp_data_map)))"
   ]
  },
  {
   "cell_type": "code",
   "execution_count": null,
   "metadata": {},
   "outputs": [],
   "source": [
    "utils.plotSoilMoistureMap(hyp_data_map, area=area[0][0], sm_range=(9., 26.), postfix=\"mc\")"
   ]
  },
  {
   "cell_type": "code",
   "execution_count": null,
   "metadata": {},
   "outputs": [],
   "source": []
  }
 ],
 "metadata": {
  "kernelspec": {
   "display_name": "Python 3",
   "language": "python",
   "name": "python3"
  },
  "language_info": {
   "codemirror_mode": {
    "name": "ipython",
    "version": 3
   },
   "file_extension": ".py",
   "mimetype": "text/x-python",
   "name": "python",
   "nbconvert_exporter": "python",
   "pygments_lexer": "ipython3",
   "version": "3.7.7"
  },
  "varInspector": {
   "cols": {
    "lenName": 16,
    "lenType": 16,
    "lenVar": 40
   },
   "kernels_config": {
    "python": {
     "delete_cmd_postfix": "",
     "delete_cmd_prefix": "del ",
     "library": "var_list.py",
     "varRefreshCmd": "print(var_dic_list())"
    },
    "r": {
     "delete_cmd_postfix": ") ",
     "delete_cmd_prefix": "rm(",
     "library": "var_list.r",
     "varRefreshCmd": "cat(var_dic_list()) "
    }
   },
   "types_to_exclude": [
    "module",
    "function",
    "builtin_function_or_method",
    "instance",
    "_Feature"
   ],
   "window_display": false
  }
 },
 "nbformat": 4,
 "nbformat_minor": 2
}
