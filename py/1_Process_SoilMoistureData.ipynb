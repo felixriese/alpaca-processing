{
 "cells": [
  {
   "cell_type": "markdown",
   "metadata": {},
   "source": [
    "# 1. Process the Soil Moisture Data\n",
    "\n",
    "<div class=\"alert alert-block alert-info\">\n",
    "    <b>About:</b>\n",
    "    This notebook refers to the studies presented in <b>Chapter 5.3</b> of the Ph.D. thesis [3].\n",
    "    We can not guarantee completeness or correctness of the code.\n",
    "    If you find bugs or if you have suggestions on how to improve the code, we encourage you to post your ideas as <a href=\"https://github.com/felixriese/alpaca-processing/issues\">GitHub issue</a>.\n",
    "</div>"
   ]
  },
  {
   "cell_type": "code",
   "execution_count": null,
   "metadata": {},
   "outputs": [],
   "source": [
    "import pandas as pd\n",
    "import geopandas\n",
    "import matplotlib.pyplot as plt\n",
    "import matplotlib as mpl"
   ]
  },
  {
   "cell_type": "markdown",
   "metadata": {},
   "source": [
    "## Data processing"
   ]
  },
  {
   "cell_type": "code",
   "execution_count": null,
   "metadata": {},
   "outputs": [],
   "source": [
    "df = pd.read_csv(\"peru_soilmoisture.csv\", index_col=0)\n",
    "df[\"datetime\"] = pd.to_datetime(df[\"datetime\"], format=\"%Y-%m-%d %H:%M:%S\")"
   ]
  },
  {
   "cell_type": "code",
   "execution_count": null,
   "metadata": {},
   "outputs": [],
   "source": [
    "areas = [1, 2, 3, 4, 5]"
   ]
  },
  {
   "cell_type": "code",
   "execution_count": null,
   "metadata": {},
   "outputs": [],
   "source": [
    "# Geopandas\n",
    "crs = {'init' :'epsg:4326'}\n",
    "gdf = geopandas.GeoDataFrame(df, geometry=geopandas.points_from_xy(df.long, df.lat), crs=crs)\n",
    "gdf.head()"
   ]
  },
  {
   "cell_type": "code",
   "execution_count": null,
   "metadata": {},
   "outputs": [],
   "source": [
    "# coordinate system\n",
    "gdf = gdf.to_crs({'init': 'epsg:3857'})\n",
    "gdf.head()"
   ]
  },
  {
   "cell_type": "code",
   "execution_count": null,
   "metadata": {},
   "outputs": [],
   "source": [
    "# export data int shapefiles\n",
    "export_vars = [\"geometry\", \"soilmoisture_perc\"]\n",
    "export_path = \"shapes/\"\n",
    "gdf[export_vars].to_file(export_path+\"peru_soilmoisture_full.shp\")\n",
    "for a in areas:\n",
    "    gdf[gdf[\"area\"]==a][export_vars].to_file(export_path+\"peru_soilmoisture_area\"+str(a)+\".shp\")"
   ]
  },
  {
   "cell_type": "markdown",
   "metadata": {},
   "source": [
    "## Data plotting"
   ]
  },
  {
   "cell_type": "code",
   "execution_count": null,
   "metadata": {},
   "outputs": [],
   "source": [
    "norm = mpl.colors.Normalize(vmin=df[\"soilmoisture_perc\"].min(), vmax=40)\n",
    "cmap = \"viridis_r\""
   ]
  },
  {
   "cell_type": "code",
   "execution_count": null,
   "metadata": {},
   "outputs": [],
   "source": [
    "world = geopandas.read_file(geopandas.datasets.get_path('naturalearth_lowres'))\n",
    "\n",
    "# We restrict to South America.\n",
    "ax = world[world.name == 'Peru'].plot(\n",
    "    color='white', edgecolor='black')\n",
    "\n",
    "# We can now plot our GeoDataFrame.\n",
    "gdf.plot(ax=ax, color='red')\n",
    "\n",
    "minx, miny, maxx, maxy = gdf.total_bounds\n",
    "factor = 0.001\n",
    "ax.set_xlim(minx*(1+factor), maxx*(1-factor))\n",
    "ax.set_ylim(miny*(1+factor), maxy*(1-factor))\n",
    "\n",
    "plt.show()"
   ]
  },
  {
   "cell_type": "code",
   "execution_count": null,
   "metadata": {},
   "outputs": [],
   "source": [
    "plot_crs = {'init' :'epsg:4326'}\n",
    "plot_gdf = geopandas.GeoDataFrame(df, geometry=geopandas.points_from_xy(df.long, df.lat), crs=plot_crs)\n",
    "plot_gdf.head()"
   ]
  },
  {
   "cell_type": "code",
   "execution_count": null,
   "metadata": {
    "scrolled": false
   },
   "outputs": [],
   "source": [
    "fontsize = 18\n",
    "\n",
    "max_sm = 40.\n",
    "cmap = \"viridis_r\"\n",
    "\n",
    "norm = plt.Normalize(vmin=0., vmax=max_sm)\n",
    "\n",
    "for area in areas:\n",
    "    \n",
    "    if area == 2:\n",
    "        fig, ax = plt.subplots(1, 1, figsize=(7.5, 5))\n",
    "    else:\n",
    "        fig, ax = plt.subplots(1, 1, figsize=(6, 6))\n",
    "\n",
    "    curr_gdf = plot_gdf[(plot_gdf[\"area\"]==area) & (plot_gdf[\"soilmoisture_perc\"]<=max_sm)]\n",
    "    \n",
    "    if area == 5:\n",
    "        curr_gdf = curr_gdf[(curr_gdf[\"lat\"]>-12.0368) & (curr_gdf[\"long\"] <-76.38035)]\n",
    "    \n",
    "    curr_gdf.plot(column=\"soilmoisture_perc\", cmap=cmap, ax=ax, norm=norm)\n",
    "    \n",
    "    print(area, curr_gdf.shape)\n",
    "    \n",
    "    offset = 0.0001\n",
    "    ax.set_xlim(min(curr_gdf[\"long\"])-offset, max(curr_gdf[\"long\"])+offset)\n",
    "    ax.set_ylim(min(curr_gdf[\"lat\"])-offset, max(curr_gdf[\"lat\"])+offset)\n",
    "\n",
    "    ax.set_xlabel(\"Longitude in degrees\", fontsize=fontsize, labelpad=12)\n",
    "    ax.set_ylabel(\"Latitude in degrees\", fontsize=fontsize, labelpad=12)\n",
    "\n",
    "    for tick in ax.xaxis.get_major_ticks():\n",
    "        tick.label.set_fontsize(fontsize)\n",
    "    for tick in ax.yaxis.get_major_ticks():\n",
    "        tick.label.set_fontsize(fontsize)\n",
    "        \n",
    "    ax.ticklabel_format(useOffset=False)\n",
    "    plt.xticks(rotation=90)\n",
    "    \n",
    "    cax = fig.add_axes([0.9, 0.125, 0.04, 0.755])\n",
    "    sm = plt.cm.ScalarMappable(cmap=cmap, norm=norm)\n",
    "    cbar = fig.colorbar(sm, cax=cax)\n",
    "    cbar.ax.tick_params(labelsize=fontsize)\n",
    "    cbar.ax.set_ylabel('Soil moisture in %', fontsize=fontsize, labelpad=12)\n",
    "    \n",
    "    # plt.title(\"Area \"+str(area))\n",
    "\n",
    "    plt.savefig(\"plots/area\"+str(area)+\"_map_soilmoisture.pdf\", bbox_inches=\"tight\")\n",
    "    # plt.show()"
   ]
  },
  {
   "cell_type": "code",
   "execution_count": null,
   "metadata": {},
   "outputs": [],
   "source": []
  }
 ],
 "metadata": {
  "kernelspec": {
   "display_name": "Python 3",
   "language": "python",
   "name": "python3"
  },
  "language_info": {
   "codemirror_mode": {
    "name": "ipython",
    "version": 3
   },
   "file_extension": ".py",
   "mimetype": "text/x-python",
   "name": "python",
   "nbconvert_exporter": "python",
   "pygments_lexer": "ipython3",
   "version": "3.7.7"
  },
  "toc": {
   "nav_menu": {},
   "number_sections": true,
   "sideBar": true,
   "skip_h1_title": false,
   "toc_cell": false,
   "toc_position": {},
   "toc_section_display": "block",
   "toc_window_display": false
  },
  "varInspector": {
   "cols": {
    "lenName": 16,
    "lenType": 16,
    "lenVar": 40
   },
   "kernels_config": {
    "python": {
     "delete_cmd_postfix": "",
     "delete_cmd_prefix": "del ",
     "library": "var_list.py",
     "varRefreshCmd": "print(var_dic_list())"
    },
    "r": {
     "delete_cmd_postfix": ") ",
     "delete_cmd_prefix": "rm(",
     "library": "var_list.r",
     "varRefreshCmd": "cat(var_dic_list()) "
    }
   },
   "types_to_exclude": [
    "module",
    "function",
    "builtin_function_or_method",
    "instance",
    "_Feature"
   ],
   "window_display": false
  }
 },
 "nbformat": 4,
 "nbformat_minor": 2
}
